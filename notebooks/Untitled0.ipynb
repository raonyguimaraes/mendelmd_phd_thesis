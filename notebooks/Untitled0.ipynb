{
 "metadata": {
  "name": ""
 },
 "nbformat": 3,
 "nbformat_minor": 0,
 "worksheets": [
  {
   "cells": [
    {
     "cell_type": "code",
     "collapsed": false,
     "input": [
      "\n",
      "\n",
      "import Orange\n",
      "import obiExpression\n",
      "\n",
      "# load leukemia data set\n",
      "table = Orange.data.Table(\"/media/Ox/Projects_Archive/res/BIO/leukemia/leukemiaGSEA.tab\")\n",
      "\n",
      "useAttributeLabels = False\n",
      "ttest = obiExpression.ExpressionSignificance_TTest(table, useAttributeLabels)\n",
      "\n",
      "target = [table.domain.classVar(0), table.domain.classVar(1)]\n",
      "\n",
      "# test for significantly expressed genes\n",
      "score = ttest(target = target)\n",
      "\n",
      "# each gene is scored (t-test, p-value)\n",
      "print score[0]\n",
      "\n",
      "# sort by p-value\n",
      "from operator import itemgetter\n",
      "score.sort(key=lambda s: s[1][1])\n",
      "\n",
      "# select 200 genes with the lowest p-value\n",
      "important_genes = [gene_var.name for gene_var, s in score[:200]]\n",
      "\n",
      "# read the gene network (5000+ genes, dense network)\n",
      "G = Orange.network.readwrite.read('genes_biofunct.gpickle')\n",
      "\n",
      "items = G.items().filter_bool({'gene': important_genes})\n",
      "indices = [i for i, present in enumerate(items) if present]\n",
      "\n",
      "# build a subraph of 200 most expressed genes\n",
      "G_sub = G.subgraph(indices)\n",
      "\n"
     ],
     "language": "python",
     "metadata": {},
     "outputs": [
      {
       "ename": "ImportError",
       "evalue": "No module named Orange",
       "output_type": "pyerr",
       "traceback": [
        "\u001b[0;31m---------------------------------------------------------------------------\u001b[0m\n\u001b[0;31mImportError\u001b[0m                               Traceback (most recent call last)",
        "\u001b[0;32m<ipython-input-2-6ff2aaeb5f6a>\u001b[0m in \u001b[0;36m<module>\u001b[0;34m()\u001b[0m\n\u001b[1;32m      1\u001b[0m \u001b[0;34m\u001b[0m\u001b[0m\n\u001b[1;32m      2\u001b[0m \u001b[0;34m\u001b[0m\u001b[0m\n\u001b[0;32m----> 3\u001b[0;31m \u001b[0;32mimport\u001b[0m \u001b[0mOrange\u001b[0m\u001b[0;34m\u001b[0m\u001b[0m\n\u001b[0m\u001b[1;32m      4\u001b[0m \u001b[0;32mimport\u001b[0m \u001b[0mobiExpression\u001b[0m\u001b[0;34m\u001b[0m\u001b[0m\n\u001b[1;32m      5\u001b[0m \u001b[0;34m\u001b[0m\u001b[0m\n",
        "\u001b[0;31mImportError\u001b[0m: No module named Orange"
       ]
      }
     ],
     "prompt_number": 2
    },
    {
     "cell_type": "code",
     "collapsed": false,
     "input": [],
     "language": "python",
     "metadata": {},
     "outputs": []
    }
   ],
   "metadata": {}
  }
 ]
}